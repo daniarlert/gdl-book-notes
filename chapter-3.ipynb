{
 "cells": [
  {
   "attachments": {},
   "cell_type": "markdown",
   "metadata": {},
   "source": [
    "# Chapter 3 - Introduction to neural prediction"
   ]
  },
  {
   "cell_type": "code",
   "execution_count": 1,
   "metadata": {},
   "outputs": [
    {
     "name": "stdout",
     "output_type": "stream",
     "text": [
      "Requirement already satisfied: numpy in ./.venv/lib/python3.11/site-packages (1.24.3)\n",
      "Note: you may need to restart the kernel to use updated packages.\n"
     ]
    }
   ],
   "source": [
    "%pip install numpy"
   ]
  },
  {
   "attachments": {},
   "cell_type": "markdown",
   "metadata": {},
   "source": [
    "### What is a NN?"
   ]
  },
  {
   "attachments": {},
   "cell_type": "markdown",
   "metadata": {},
   "source": [
    "A nn, in its simplest form, takes an input datapoint and multiplies it by the weight. So, it \"scales\" the input by a certain amount."
   ]
  },
  {
   "cell_type": "code",
   "execution_count": 2,
   "metadata": {},
   "outputs": [
    {
     "data": {
      "text/plain": [
       "0.8500000000000001"
      ]
     },
     "execution_count": 2,
     "metadata": {},
     "output_type": "execute_result"
    }
   ],
   "source": [
    "# Network\n",
    "weight = 0.1\n",
    "\n",
    "\n",
    "def nn(input, weight):\n",
    "    return input * weight  # prediction\n",
    "\n",
    "\n",
    "number_of_toes = [8.5, 9.5, 10, 9]\n",
    "input = number_of_toes[0]\n",
    "\n",
    "nn(input, weight)"
   ]
  },
  {
   "attachments": {},
   "cell_type": "markdown",
   "metadata": {},
   "source": [
    "The interface for a nn is simple. It accepts an input variable as information and a weight variable as knowledge and outputs a prediction. Every neural network works this way.  \n",
    "It uses the knowledge in the weights to interpret the information in the input data. later nn will accept larger, more complex input and weight values, but this same underlying premise will always ring true."
   ]
  },
  {
   "attachments": {},
   "cell_type": "markdown",
   "metadata": {},
   "source": [
    "Another way to think about a nn's weight value is as a measure of sensitivity between the input of the network and its prediction."
   ]
  },
  {
   "cell_type": "code",
   "execution_count": 5,
   "metadata": {},
   "outputs": [],
   "source": [
    "import numpy as np"
   ]
  },
  {
   "attachments": {},
   "cell_type": "markdown",
   "metadata": {},
   "source": [
    "## Making a prediction with multiple inputs"
   ]
  },
  {
   "cell_type": "code",
   "execution_count": 4,
   "metadata": {},
   "outputs": [
    {
     "data": {
      "text/plain": [
       "0.9800000000000001"
      ]
     },
     "execution_count": 4,
     "metadata": {},
     "output_type": "execute_result"
    }
   ],
   "source": [
    "weights = np.array([0.1, 0.2, 0])\n",
    "\n",
    "\n",
    "def nn(input, weights):\n",
    "    assert len(input) == len(weights)\n",
    "\n",
    "    pred = input.dot(weights)  # prediction\n",
    "    return pred\n",
    "\n",
    "\n",
    "toes = np.array([8.5, 9.5, 9.9, 9.0])  # current number of toes\n",
    "wlrec = np.array([0.65, 0.8, 0.9])  # current games won (percent)\n",
    "nfans = np.array([1.2, 1.3, 0.5, 1.0])  # fan count (in millions)\n",
    "\n",
    "input = np.array([toes[0], wlrec[0], nfans[0]])\n",
    "\n",
    "nn(input, weights)"
   ]
  },
  {
   "attachments": {},
   "cell_type": "markdown",
   "metadata": {},
   "source": [
    "## Making a prediction with multiple outputs"
   ]
  },
  {
   "cell_type": "code",
   "execution_count": 8,
   "metadata": {},
   "outputs": [
    {
     "name": "stdout",
     "output_type": "stream",
     "text": [
      "[0.195, 0.13, 0.5850000000000001]\n"
     ]
    }
   ],
   "source": [
    "weights = np.array([0.3, 0.2, 0.9])\n",
    "\n",
    "\n",
    "def ele_mul(n, vec):\n",
    "    output = [0, 0, 0]\n",
    "\n",
    "    assert len(output) == len(vec)\n",
    "\n",
    "    for i in range(len(vec)):\n",
    "        output[i] = n * vec[i]\n",
    "\n",
    "    return output\n",
    "\n",
    "\n",
    "def nn(input, weights):\n",
    "    pred = ele_mul(input, weights)\n",
    "    return pred\n",
    "\n",
    "\n",
    "wlrec = [0.65, 0.8, 0.8, 0.9]\n",
    "input = wlrec[0]\n",
    "pred = nn(input, weights)\n",
    "print(pred)"
   ]
  },
  {
   "attachments": {},
   "cell_type": "markdown",
   "metadata": {},
   "source": [
    "## Predicting with multiple inputs & outputs"
   ]
  },
  {
   "cell_type": "code",
   "execution_count": 13,
   "metadata": {},
   "outputs": [
    {
     "name": "stdout",
     "output_type": "stream",
     "text": [
      "[0.555, 0.9800000000000001, 0.9650000000000001]\n"
     ]
    }
   ],
   "source": [
    "weights = [\n",
    "    # toes %win #fans\n",
    "    [0.1, 0.1, -0.3],  # hurt?\n",
    "    [0.1, 0.2, 0.0],  # win?\n",
    "    [0.0, 1.3, 0.1],  # sad?\n",
    "]\n",
    "\n",
    "\n",
    "def w_sum(a, b):\n",
    "    assert len(a) == len(b)\n",
    "    output = 0\n",
    "\n",
    "    for i in range(len(a)):\n",
    "        output += a[i] * b[i]\n",
    "\n",
    "    return output\n",
    "\n",
    "\n",
    "def vec_mat_mul(vec, matrix):\n",
    "    assert len(vec) == len(matrix)\n",
    "\n",
    "    output = [0, 0, 0]\n",
    "\n",
    "    for i in range(len(vec)):\n",
    "        output[i] = w_sum(vec, matrix[i])\n",
    "\n",
    "    return output\n",
    "\n",
    "\n",
    "def nn(input, weights):\n",
    "    pred = vec_mat_mul(input, weights)\n",
    "    return pred\n",
    "\n",
    "\n",
    "toes = [8.5, 9.5, 9.9, 9.0]\n",
    "wlrec = [0.65, 0.8, 0.8, 0.9]\n",
    "nfans = [1.2, 1.3, 0.5, 1.0]\n",
    "\n",
    "input = [toes[0], wlrec[0], nfans[0]]\n",
    "pred = nn(input, weights)\n",
    "print(pred)"
   ]
  },
  {
   "attachments": {},
   "cell_type": "markdown",
   "metadata": {},
   "source": [
    "## Predicting on predictions"
   ]
  },
  {
   "cell_type": "code",
   "execution_count": 16,
   "metadata": {},
   "outputs": [
    {
     "name": "stdout",
     "output_type": "stream",
     "text": [
      "[0.2135 0.145  0.5065]\n"
     ]
    }
   ],
   "source": [
    "ih_wgt = np.array(\n",
    "    [\n",
    "        # toes %win #fans\n",
    "        [0.1, 0.2, -0.1],  # hid[0]\n",
    "        [-0.1, 0.1, 0.9],  # hid[1]\n",
    "        [0.1, 0.4, 0.1],  # hid[2]\n",
    "    ]\n",
    ").T\n",
    "\n",
    "hp_wgt = np.array(\n",
    "    [\n",
    "        # hid[0] hid[1] hid[2]\n",
    "        [0.3, 1.1, -0.3],  # hurt?\n",
    "        [0.1, 0.2, 0.0],  # win?\n",
    "        [0.0, 1.3, 0.1],  # sad?\n",
    "    ]\n",
    ").T\n",
    "\n",
    "weights = np.array([ih_wgt, hp_wgt])\n",
    "\n",
    "\n",
    "def nn(input, weights):\n",
    "    hid = input.dot(weights[0])\n",
    "    pred = hid.dot(weights[1])\n",
    "    return pred\n",
    "\n",
    "\n",
    "toes = np.array([8.5, 9.5, 9.9, 9.0])\n",
    "wlred = np.array([0.65, 0.8, 0.8, 0.9])\n",
    "nfans = np.array([1.2, 1.3, 0.5, 1.0])\n",
    "\n",
    "input = np.array([toes[0], wlrec[0], nfans[0]])\n",
    "pred = nn(input, weights)\n",
    "\n",
    "print(pred)"
   ]
  }
 ],
 "metadata": {
  "kernelspec": {
   "display_name": ".venv",
   "language": "python",
   "name": "python3"
  },
  "language_info": {
   "codemirror_mode": {
    "name": "ipython",
    "version": 3
   },
   "file_extension": ".py",
   "mimetype": "text/x-python",
   "name": "python",
   "nbconvert_exporter": "python",
   "pygments_lexer": "ipython3",
   "version": "3.11.3"
  },
  "orig_nbformat": 4
 },
 "nbformat": 4,
 "nbformat_minor": 2
}
